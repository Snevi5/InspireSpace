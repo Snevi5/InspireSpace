{
 "cells": [
  {
   "cell_type": "code",
   "execution_count": 2,
   "id": "65d6ae80-c13a-4e99-9768-923e5f018714",
   "metadata": {},
   "outputs": [],
   "source": [
    "import SpacePlanner as sp"
   ]
  },
  {
   "cell_type": "code",
   "execution_count": 3,
   "id": "f42abe0e-172b-47f6-8851-229635e4fdf1",
   "metadata": {},
   "outputs": [
    {
     "name": "stdout",
     "output_type": "stream",
     "text": [
      "Total volume: 1000\n",
      "Remaining space: 965\n",
      "Items: ['Box1', 'Box2']\n",
      "Usage: 3.50%\n"
     ]
    }
   ],
   "source": [
    "# Create a 10x10x10 space\n",
    "planner = sp.SpacePlanner(10, 10, 10)\n",
    "    \n",
    "# Add some items\n",
    "planner.add_item(\"Box1\", 2, 2, 2)\n",
    "planner.add_item(\"Box2\", 3, 3, 3)\n",
    "    \n",
    "# Test some functions\n",
    "print(f\"Total volume: {planner.calculate_volume()}\")\n",
    "print(f\"Remaining space: {planner.get_remaining_space()}\")\n",
    "print(f\"Items: {planner.list_items()}\")\n",
    "print(f\"Usage: {planner.calculate_usage_percentage():.2f}%\")"
   ]
  },
  {
   "cell_type": "code",
   "execution_count": 2,
   "id": "95f34898-5a59-408a-9691-dcbae74d5ac4",
   "metadata": {},
   "outputs": [],
   "source": [
    "import Theme as th"
   ]
  },
  {
   "cell_type": "code",
   "execution_count": 3,
   "id": "17f9515b-8d9e-4321-b087-139fa46a0bd7",
   "metadata": {},
   "outputs": [
    {
     "name": "stdout",
     "output_type": "stream",
     "text": [
      "Primary Color: #1A1A1A\n",
      "Heading Font: {'family': 'Arial', 'size': 24, 'weight': 'bold'}\n",
      "\n",
      "Theme Preview:\n",
      "Theme Name: Dark Mode\n",
      "Colors: {'primary': '#1A1A1A', 'secondary': '#2B2B2B', 'accent': '#FF6B6B', 'background': '#0F0F0F'}\n",
      "Fonts: {'heading': {'family': 'Arial', 'size': 24, 'weight': 'bold'}, 'body': {'family': 'Arial', 'size': 16, 'weight': 'normal'}}\n",
      "Spacing: {'padding': 16, 'margin': 8, 'gap': 12}\n"
     ]
    }
   ],
   "source": [
    "# Create a theme manager\n",
    "theme = th.DesignThemeManager(\"Dark Mode\")\n",
    "    \n",
    "# Set some theme properties\n",
    "theme.set_color_scheme(\"#1A1A1A\", \"#2B2B2B\", \"#FF6B6B\", \"#0F0F0F\")\n",
    "theme.add_font_style(\"heading\", \"Arial\", 24, \"bold\")\n",
    "theme.add_font_style(\"body\", \"Arial\", 16)\n",
    "theme.set_spacing(16, 8, 12)\n",
    "    \n",
    "# Test some functions\n",
    "print(f\"Primary Color: {theme.get_color('primary')}\")\n",
    "print(f\"Heading Font: {theme.get_font('heading')}\")\n",
    "print(\"\\nTheme Preview:\")\n",
    "for key, value in theme.preview_theme().items():\n",
    "    print(f\"{key}: {value}\")"
   ]
  },
  {
   "cell_type": "code",
   "execution_count": 4,
   "id": "e5aef757-b67a-4391-a8bc-0860b19a9a58",
   "metadata": {},
   "outputs": [],
   "source": [
    "import Furniture as ft"
   ]
  },
  {
   "cell_type": "code",
   "execution_count": 5,
   "id": "de1fbd27-a859-4d70-b4f7-a996fc75d502",
   "metadata": {},
   "outputs": [
    {
     "name": "stdout",
     "output_type": "stream",
     "text": [
      "Catalog Stats: {'total_items': 3, 'categories': 2, 'in_stock': 3, 'out_of_stock': 0}\n",
      "\n",
      "Seating Items: {'CH001': {'name': 'Leather Sofa', 'category': 'Seating', 'price': 799.99, 'dimensions': {'width': 80, 'length': 35, 'height': 33}, 'in_stock': True}, 'CH003': {'name': 'Armchair', 'category': 'Seating', 'price': 399.99, 'dimensions': {'width': 35, 'length': 35, 'height': 34}, 'in_stock': True}}\n",
      "\n",
      "Price Range: {'min': 249.99, 'max': 799.99}\n",
      "\n",
      "Search 'chair': {'CH003': {'name': 'Armchair', 'category': 'Seating', 'price': 399.99, 'dimensions': {'width': 35, 'length': 35, 'height': 34}, 'in_stock': True}}\n",
      "\n",
      "Item CH001 Details: {'name': 'Leather Sofa', 'category': 'Seating', 'price': 799.99, 'dimensions': {'width': 80, 'length': 35, 'height': 33}, 'in_stock': True}\n"
     ]
    }
   ],
   "source": [
    "# Create a furniture catalog\n",
    "catalog = ft.FurnitureCatalog(\"Spring Collection\")\n",
    "    \n",
    "# Add some items\n",
    "catalog.add_item(\"CH001\", \"Leather Sofa\", \"Seating\", 799.99, \n",
    "                {'width': 80, 'length': 35, 'height': 33})\n",
    "catalog.add_item(\"TB002\", \"Coffee Table\", \"Tables\", 249.99, \n",
    "                {'width': 48, 'length': 24, 'height': 18})\n",
    "catalog.add_item(\"CH003\", \"Armchair\", \"Seating\", 399.99, \n",
    "                {'width': 35, 'length': 35, 'height': 34})\n",
    "    \n",
    "# Test some functions\n",
    "print(f\"Catalog Stats: {catalog.get_catalog_stats()}\")\n",
    "print(f\"\\nSeating Items: {catalog.list_by_category('Seating')}\")\n",
    "print(f\"\\nPrice Range: {catalog.get_price_range()}\")\n",
    "print(f\"\\nSearch 'chair': {catalog.search_by_name('chair')}\")\n",
    "print(f\"\\nItem CH001 Details: {catalog.get_item_details('CH001')}\")"
   ]
  },
  {
   "cell_type": "code",
   "execution_count": 2,
   "id": "a11161c4-2389-41f0-9a90-c4c398a53414",
   "metadata": {},
   "outputs": [],
   "source": [
    "import Lighting as lt"
   ]
  },
  {
   "cell_type": "code",
   "execution_count": 3,
   "id": "314ab530-830c-4f56-8844-4a89e0134aa2",
   "metadata": {},
   "outputs": [
    {
     "name": "stdout",
     "output_type": "stream",
     "text": [
      "Project Details: {'name': 'Modern Living', 'dimensions': {'width': 20, 'length': 15, 'height': 10}, 'lighting_zones': {'Main Area': {'area': 150, 'fixtures': ['Chandelier'], 'cost': 500}, 'Reading Nook': {'area': 50, 'fixtures': ['Floor Lamp'], 'cost': 150}}, 'budget': 650}\n",
      "Main Area Coverage: 50.00%\n",
      "Total Cost: $650\n",
      "\n",
      "Project Report: {'project_id': 'PRJ0001', 'name': 'Modern Living', 'total_cost': 650, 'budget': 650, 'zones': 2, 'zone_details': {'Main Area': {'coverage': 50.0, 'fixture_count': 1, 'cost': 500}, 'Reading Nook': {'coverage': 16.666666666666664, 'fixture_count': 1, 'cost': 150}}}\n"
     ]
    }
   ],
   "source": [
    "# Create a lighting designer\n",
    "designer = lt.LightingDesigner(\"Jane Doe\")\n",
    "    \n",
    "# Create a project\n",
    "proj_id = designer.create_project(\"Modern Living\", {'width': 20, 'length': 15, 'height': 10})\n",
    "    \n",
    "# Add zones and fixtures\n",
    "designer.add_lighting_zone(proj_id, \"Main Area\", 150)\n",
    "designer.add_lighting_zone(proj_id, \"Reading Nook\", 50)\n",
    "designer.assign_fixture_to_zone(proj_id, \"Main Area\", \"Chandelier\", 500)\n",
    "designer.assign_fixture_to_zone(proj_id, \"Reading Nook\", \"Floor Lamp\", 150)\n",
    "    \n",
    "# Add material\n",
    "designer.add_material(\"MAT001\", \"LED Bulb\", 10.99)\n",
    "    \n",
    "# Test functions\n",
    "print(f\"Project Details: {designer.get_project_details(proj_id)}\")\n",
    "print(f\"Main Area Coverage: {designer.calculate_zone_coverage(proj_id, 'Main Area'):.2f}%\")\n",
    "print(f\"Total Cost: ${designer.get_project_cost(proj_id)}\")\n",
    "print(f\"\\nProject Report: {designer.generate_project_report(proj_id)}\")"
   ]
  },
  {
   "cell_type": "code",
   "execution_count": 1,
   "id": "e4e3f696-077a-4740-9f3c-a192a7324a63",
   "metadata": {},
   "outputs": [],
   "source": [
    "import Texture as t"
   ]
  },
  {
   "cell_type": "code",
   "execution_count": 2,
   "id": "ba3da9b4-3080-41c3-997d-27f54620ae64",
   "metadata": {},
   "outputs": [
    {
     "name": "stdout",
     "output_type": "stream",
     "text": [
      "[Texture] Loaded texture from textures/wood_grain.jpg\n",
      "[Texture] Repeat set to (U: 2, V: 2)\n",
      "[Texture] Scale set to (X: 1.5, Y: 1.5)\n",
      "[Texture] Opacity set to 0.8\n",
      "[Texture] Bump map set from textures/wood_bump.jpg\n",
      "[Texture] Reflectivity: 0.6, Roughness: 0.3\n",
      "[Texture] Applied 'Wood Grain' to surface: wall_01\n",
      "[Texture] Previewing texture: Wood Grain from textures/wood_grain.jpg\n",
      "{'name': 'Wood Grain', 'file_path': 'textures/wood_grain.jpg', 'repeat': (2, 2), 'scale': (1.5, 1.5), 'opacity': 0.8, 'bump_map': 'textures/wood_bump.jpg', 'reflectivity': 0.6, 'roughness': 0.3, 'applied_surfaces': ['wall_01']}\n",
      "[Texture] Removed 'Wood Grain' from surface: wall_01\n"
     ]
    }
   ],
   "source": [
    "tex = t.Texture(\"Wood Grain\")\n",
    "tex.load_texture(\"textures/wood_grain.jpg\")\n",
    "tex.set_repeat(2, 2)\n",
    "tex.set_scale(1.5, 1.5)\n",
    "tex.set_opacity(0.8)\n",
    "tex.set_bump_map(\"textures/wood_bump.jpg\")\n",
    "tex.set_material_properties(0.6, 0.3)\n",
    "tex.apply_to_surface(\"wall_01\")\n",
    "tex.preview()\n",
    "info = tex.get_texture_info()\n",
    "print(info)\n",
    "tex.remove_from_surface(\"wall_01\")"
   ]
  }
 ],
 "metadata": {
  "kernelspec": {
   "display_name": "Python 3 (ipykernel)",
   "language": "python",
   "name": "python3"
  },
  "language_info": {
   "codemirror_mode": {
    "name": "ipython",
    "version": 3
   },
   "file_extension": ".py",
   "mimetype": "text/x-python",
   "name": "python",
   "nbconvert_exporter": "python",
   "pygments_lexer": "ipython3",
   "version": "3.13.1"
  }
 },
 "nbformat": 4,
 "nbformat_minor": 5
}
